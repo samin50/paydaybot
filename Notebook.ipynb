{
 "cells": [
  {
   "cell_type": "code",
   "execution_count": 2,
   "metadata": {},
   "outputs": [],
   "source": [
    "from src.Processor import Processor\n",
    "import src.util.HelperFunctions as HF\n",
    "%load_ext autoreload\n",
    "%autoreload 2"
   ]
  },
  {
   "cell_type": "code",
   "execution_count": 3,
   "metadata": {},
   "outputs": [],
   "source": [
    "processor = Processor()"
   ]
  },
  {
   "cell_type": "code",
   "execution_count": 7,
   "metadata": {},
   "outputs": [
    {
     "ename": "KeyboardInterrupt",
     "evalue": "",
     "output_type": "error",
     "traceback": [
      "\u001b[1;31m---------------------------------------------------------------------------\u001b[0m",
      "\u001b[1;31mKeyboardInterrupt\u001b[0m                         Traceback (most recent call last)",
      "Cell \u001b[1;32mIn[7], line 2\u001b[0m\n\u001b[0;32m      1\u001b[0m HF\u001b[39m.\u001b[39mclick_screen()\n\u001b[1;32m----> 2\u001b[0m processor\u001b[39m.\u001b[39;49mstate_machine(initialState\u001b[39m=\u001b[39;49m\u001b[39m\"\u001b[39;49m\u001b[39mfind_battle\u001b[39;49m\u001b[39m\"\u001b[39;49m)\n",
      "File \u001b[1;32mc:\\Users\\Shaheen\\Desktop\\Personal Files\\Projects\\Code\\Payday Bot\\src\\Processor.py:34\u001b[0m, in \u001b[0;36mProcessor.state_machine\u001b[1;34m(self, initialState)\u001b[0m\n\u001b[0;32m     32\u001b[0m time\u001b[39m.\u001b[39msleep(WAITTIME)\n\u001b[0;32m     33\u001b[0m previousState \u001b[39m=\u001b[39m \u001b[39mself\u001b[39m\u001b[39m.\u001b[39mcurrentState\n\u001b[1;32m---> 34\u001b[0m \u001b[39meval\u001b[39;49m(\u001b[39mf\u001b[39;49m\u001b[39m\"\u001b[39;49m\u001b[39mself.\u001b[39;49m\u001b[39m{\u001b[39;49;00m\u001b[39mself\u001b[39;49m\u001b[39m.\u001b[39;49mcurrentState\u001b[39m}\u001b[39;49;00m\u001b[39m()\u001b[39;49m\u001b[39m\"\u001b[39;49m)\n\u001b[0;32m     35\u001b[0m \u001b[39mif\u001b[39;00m previousState \u001b[39m!=\u001b[39m \u001b[39mself\u001b[39m\u001b[39m.\u001b[39mcurrentState:\n\u001b[0;32m     36\u001b[0m     \u001b[39mself\u001b[39m\u001b[39m.\u001b[39mprint_console(\u001b[39mf\u001b[39m\u001b[39m\"\u001b[39m\u001b[39mState changed from \u001b[39m\u001b[39m{\u001b[39;00mpreviousState\u001b[39m}\u001b[39;00m\u001b[39m to \u001b[39m\u001b[39m{\u001b[39;00m\u001b[39mself\u001b[39m\u001b[39m.\u001b[39mcurrentState\u001b[39m}\u001b[39;00m\u001b[39m\"\u001b[39m, \u001b[39m\"\u001b[39m\u001b[39mINFO\u001b[39m\u001b[39m\"\u001b[39m)\n",
      "File \u001b[1;32m<string>:1\u001b[0m\n",
      "File \u001b[1;32mc:\\Users\\Shaheen\\Desktop\\Personal Files\\Projects\\Code\\Payday Bot\\src\\Processor.py:89\u001b[0m, in \u001b[0;36mProcessor.find_battle\u001b[1;34m(self)\u001b[0m\n\u001b[0;32m     87\u001b[0m \u001b[39mwhile\u001b[39;00m \u001b[39mnot\u001b[39;00m HF\u001b[39m.\u001b[39mcheck_for_image(\u001b[39m\"\u001b[39m\u001b[39mimages/battle.jpg\u001b[39m\u001b[39m\"\u001b[39m, confidence\u001b[39m=\u001b[39m\u001b[39m0.8\u001b[39m):\n\u001b[0;32m     88\u001b[0m     time\u001b[39m.\u001b[39msleep(WAITTIME)\n\u001b[1;32m---> 89\u001b[0m     HF\u001b[39m.\u001b[39;49minput_sequence_hold([\n\u001b[0;32m     90\u001b[0m         (\u001b[39m\"\u001b[39;49m\u001b[39ma\u001b[39;49m\u001b[39m\"\u001b[39;49m, \u001b[39m1\u001b[39;49m),\n\u001b[0;32m     91\u001b[0m         (\u001b[39m\"\u001b[39;49m\u001b[39md\u001b[39;49m\u001b[39m\"\u001b[39;49m, \u001b[39m1\u001b[39;49m)\n\u001b[0;32m     92\u001b[0m     ])\n\u001b[0;32m     93\u001b[0m \u001b[39m# Battle found\u001b[39;00m\n\u001b[0;32m     94\u001b[0m \u001b[39mself\u001b[39m\u001b[39m.\u001b[39mprint_console(\u001b[39m\"\u001b[39m\u001b[39mBattle found!\u001b[39m\u001b[39m\"\u001b[39m, \u001b[39m\"\u001b[39m\u001b[39mGOOD\u001b[39m\u001b[39m\"\u001b[39m)\n",
      "File \u001b[1;32mc:\\Users\\Shaheen\\Desktop\\Personal Files\\Projects\\Code\\Payday Bot\\src\\util\\HelperFunctions.py:44\u001b[0m, in \u001b[0;36minput_sequence_hold\u001b[1;34m(sequence, delayBetweenKeys)\u001b[0m\n\u001b[0;32m     42\u001b[0m \u001b[39mfor\u001b[39;00m key, value \u001b[39min\u001b[39;00m sequence:\n\u001b[0;32m     43\u001b[0m     keyboard\u001b[39m.\u001b[39mpress(key)\n\u001b[1;32m---> 44\u001b[0m     time\u001b[39m.\u001b[39;49msleep(value)\n\u001b[0;32m     45\u001b[0m     keyboard\u001b[39m.\u001b[39mrelease(key)\n\u001b[0;32m     46\u001b[0m     time\u001b[39m.\u001b[39msleep(delayBetweenKeys)\n",
      "\u001b[1;31mKeyboardInterrupt\u001b[0m: "
     ]
    }
   ],
   "source": [
    "HF.click_screen()\n",
    "processor.state_machine(initialState=\"start\")"
   ]
  },
  {
   "cell_type": "code",
   "execution_count": null,
   "metadata": {},
   "outputs": [],
   "source": []
  }
 ],
 "metadata": {
  "kernelspec": {
   "display_name": "bot",
   "language": "python",
   "name": "python3"
  },
  "language_info": {
   "codemirror_mode": {
    "name": "ipython",
    "version": 3
   },
   "file_extension": ".py",
   "mimetype": "text/x-python",
   "name": "python",
   "nbconvert_exporter": "python",
   "pygments_lexer": "ipython3",
   "version": "3.10.12"
  },
  "orig_nbformat": 4
 },
 "nbformat": 4,
 "nbformat_minor": 2
}
